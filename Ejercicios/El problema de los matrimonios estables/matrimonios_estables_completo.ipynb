{
 "cells": [
  {
   "cell_type": "markdown",
   "metadata": {},
   "source": [
    "#El problema de los matrimonios estables"
   ]
  },
  {
   "cell_type": "markdown",
   "metadata": {},
   "source": [
    ">*Dados un cierto número de hombres y mujeres heterosexuales organízalos por parejas de tal manera que su matrimonio sea estable. Cada persona ha ordenado a las personas del sexo opuesto según su preferencia. Los matrimonios se consideran estables si no es posible encontrar dos personas del sexo opuesto que se atraigan entre sí más que lo que les atraen sus respectivas parejas.*"
   ]
  },
  {
   "cell_type": "markdown",
   "metadata": {},
   "source": [
    "Este problema siempre tiene solución (¡a veces puede tener varias!) y existe un algoritmo, diseñado por David Gale and Lloyd Shapley en 1962, en el que las parejas se ordenan a sí mismas, como un sistema complejo. Mira en qué consiste el algoritmo en este vídeo:"
   ]
  },
  {
   "cell_type": "code",
   "execution_count": null,
   "metadata": {
    "collapsed": true
   },
   "outputs": [],
   "source": [
    "from IPython.display import HTML\n",
    "HTML('<iframe src=\"http://youtube.com\" width=\"700\" height=\"400\"></iframe>')"
   ]
  },
  {
   "cell_type": "code",
   "execution_count": 1,
   "metadata": {
    "collapsed": true
   },
   "outputs": [],
   "source": [
    "import numpy as np\n",
    "import random as random"
   ]
  },
  {
   "cell_type": "code",
   "execution_count": 2,
   "metadata": {
    "collapsed": false
   },
   "outputs": [],
   "source": [
    "class Woman (object):\n",
    "    \n",
    "    def __init__(self, name):\n",
    "        \n",
    "        self.name = name\n",
    "        self.preferences = {}\n",
    "        self.preferences_inv = {}\n",
    "        self.boyfriend = []\n",
    "        self.candidates = []\n",
    "        \n",
    "    def engage(self, man):\n",
    "            self.boyfriend = man\n",
    "            man.girlfriend = self\n",
    "        \n",
    "    def breakup(self, man):\n",
    "            self.boyfriend = []\n",
    "            man.girlfriend = []\n",
    "    \n",
    "        \n",
    "class Man (object):\n",
    "    \n",
    "    def __init__(self, name):\n",
    "        \n",
    "        self.name = name\n",
    "        self.preferences = {}\n",
    "        self.preferences_inv = {}\n",
    "        self.girlfriend = []\n",
    "        self.number_of_proposals = 1\n",
    "        \n",
    "    def propose(self, woman):\n",
    "        woman.candidates += [self]\n",
    "        self.number_of_proposals += 1"
   ]
  },
  {
   "cell_type": "code",
   "execution_count": 3,
   "metadata": {
    "collapsed": true
   },
   "outputs": [],
   "source": [
    "magdalena, elena, ana, julia, marta = Woman('Magdalena'), Woman('Elena'), Woman('Ana'), Woman('Julia'), Woman('Marta')\n",
    "carlos, siro, manuel, antonio, javier = Man('Carlos'), Man('Siro'), Man('Manuel'), Man('Antonio'), Man('Javier')\n",
    "\n",
    "women = [magdalena, elena, ana, julia, marta]\n",
    "men =[carlos, siro, manuel, antonio, javier]"
   ]
  },
  {
   "cell_type": "code",
   "execution_count": 4,
   "metadata": {
    "collapsed": false
   },
   "outputs": [],
   "source": [
    "for woman in women:\n",
    "    preferences = [ii for ii in range(1, len(men)+1)]\n",
    "    random.shuffle(preferences)\n",
    "    \n",
    "    for index in range(len(men)):\n",
    "        woman.preferences[preferences[index]] = men[index]\n",
    "        \n",
    "    for index in range(1, len(men)+1):\n",
    "        woman.preferences_inv[woman.preferences.get(index).name] = index\n",
    "        \n",
    "for man in men:\n",
    "    preferences = [ii for ii in range(1, len(women)+1)]\n",
    "    random.shuffle(preferences)\n",
    "    \n",
    "    for index in range(len(women)):\n",
    "        man.preferences[preferences[index]] = women[index]\n",
    "        \n",
    "    for index in range(1, len(men)+1):\n",
    "        man.preferences_inv[man.preferences.get(index).name] = index"
   ]
  },
  {
   "cell_type": "code",
   "execution_count": 5,
   "metadata": {
    "collapsed": false
   },
   "outputs": [],
   "source": [
    "def noche_de_fiesta(man, women):\n",
    "    \n",
    "    for woman in women:\n",
    "        woman.candidates=[]\n",
    "    \n",
    "    for man in men:\n",
    "        if man.girlfriend == []:\n",
    "            man.propose(man.preferences[man.number_of_proposals])\n",
    "        \n",
    "    for woman in women:\n",
    "    \n",
    "        if woman.boyfriend == []:\n",
    "            for ii in range(1, len(men)+1):\n",
    "                if woman.preferences[ii] in woman.candidates:\n",
    "                    woman.engage(woman.preferences[ii])\n",
    "                    break\n",
    "        \n",
    "        elif any (woman.preferences_inv[man.name]>woman.preferences_inv[woman.boyfriend.name] for man in woman.candidates):\n",
    "            woman.breakup(woman.boyfriend)\n",
    "            for ii in range(1, len(men)+1):\n",
    "                if woman.preferences[ii] in woman.candidates:\n",
    "                    woman.engage(woman.preferences[ii])\n",
    "                    break        "
   ]
  },
  {
   "cell_type": "code",
   "execution_count": 6,
   "metadata": {
    "collapsed": false
   },
   "outputs": [
    {
     "name": "stdout",
     "output_type": "stream",
     "text": [
      "Noche 1\n",
      "-------\n",
      "Magdalena\n",
      "Elena\n",
      "    Candidatos:  ['Carlos', 'Manuel', 'Antonio', 'Javier']\n",
      "    Novio:  Carlos\n",
      "Ana\n",
      "Julia\n",
      "Marta\n",
      "    Candidatos:  ['Siro']\n",
      "    Novio:  Siro\n",
      "\n",
      "\n",
      "Noche 2\n",
      "-------\n",
      "Magdalena\n",
      "Elena\n",
      "    Novio:  Carlos\n",
      "Ana\n",
      "Julia\n",
      "    Candidatos:  ['Manuel']\n",
      "    Novio:  Manuel\n",
      "Marta\n",
      "    Candidatos:  ['Antonio', 'Javier']\n",
      "    Novio:  Javier\n",
      "\n",
      "\n",
      "Noche 3\n",
      "-------\n",
      "Magdalena\n",
      "Elena\n",
      "    Candidatos:  ['Siro']\n",
      "    Novio:  Siro\n",
      "Ana\n",
      "Julia\n",
      "    Candidatos:  ['Antonio']\n",
      "    Novio:  Antonio\n",
      "Marta\n",
      "    Novio:  Javier\n",
      "\n",
      "\n",
      "Noche 4\n",
      "-------\n",
      "Magdalena\n",
      "    Candidatos:  ['Carlos', 'Manuel']\n",
      "    Novio:  Manuel\n",
      "Elena\n",
      "    Novio:  Siro\n",
      "Ana\n",
      "Julia\n",
      "    Novio:  Antonio\n",
      "Marta\n",
      "    Novio:  Javier\n",
      "\n",
      "\n",
      "Noche 5\n",
      "-------\n",
      "Magdalena\n",
      "    Novio:  Manuel\n",
      "Elena\n",
      "    Novio:  Siro\n",
      "Ana\n",
      "    Candidatos:  ['Carlos']\n",
      "    Novio:  Carlos\n",
      "Julia\n",
      "    Novio:  Antonio\n",
      "Marta\n",
      "    Novio:  Javier\n",
      "\n",
      "\n",
      "Noche 6\n",
      "-------\n",
      "Magdalena\n",
      "    Novio:  Manuel\n",
      "Elena\n",
      "    Novio:  Siro\n",
      "Ana\n",
      "    Novio:  Carlos\n",
      "Julia\n",
      "    Novio:  Antonio\n",
      "Marta\n",
      "    Novio:  Javier\n",
      "\n",
      "\n"
     ]
    }
   ],
   "source": [
    "for dia in range(1, len(men)+2):\n",
    "    print('Noche ' + str(dia))\n",
    "    print('-------')\n",
    "    noche_de_fiesta(men, women)\n",
    "    for woman in women:\n",
    "        print(woman.name)\n",
    "        if woman.candidates != []:\n",
    "            print('    Candidatos: ', [candidate.name for candidate in woman.candidates])\n",
    "        if woman.boyfriend != []:\n",
    "            print('    Novio: ',  woman.boyfriend.name)\n",
    "    print()\n",
    "    print()"
   ]
  }
 ],
 "metadata": {
  "kernelspec": {
   "display_name": "Python 3",
   "language": "python",
   "name": "python3"
  },
  "language_info": {
   "codemirror_mode": {
    "name": "ipython",
    "version": 3
   },
   "file_extension": ".py",
   "mimetype": "text/x-python",
   "name": "python",
   "nbconvert_exporter": "python",
   "pygments_lexer": "ipython3",
   "version": "3.4.1"
  }
 },
 "nbformat": 4,
 "nbformat_minor": 0
}

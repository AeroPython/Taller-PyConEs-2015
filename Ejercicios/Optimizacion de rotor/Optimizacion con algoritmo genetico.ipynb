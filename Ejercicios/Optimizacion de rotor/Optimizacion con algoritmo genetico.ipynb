{
 "cells": [
  {
   "cell_type": "markdown",
   "metadata": {},
   "source": [
    "![Aeropython Logo](/files/imagenes/aeropython_logo.png)"
   ]
  },
  {
   "cell_type": "markdown",
   "metadata": {},
   "source": [
    "#Ejercicio: Algoritmo genético para optimizar un rotor o hélice, paso a paso"
   ]
  },
  {
   "cell_type": "markdown",
   "metadata": {},
   "source": [
    "##El problema"
   ]
  },
  {
   "cell_type": "markdown",
   "metadata": {},
   "source": [
    "A menudo, en ingeniería, cuando nos enfrentamos a un problema, no podemos resolver directamente o despejar la solución como en los problemas sencillos típicos de matemáticas o física clásica. Una manera muy típica en la que nos encontraremos los problemas es en la forma de simulación: tenemos una serie de parámetros y un modelo, y podemos simularlo para obtener sus características, pero sin tener ninguna fórmula explícita que relacione parámetros y resultados y que nos permita obtener una función inversa.\n",
    "\n",
    "En este ejercicio, nos plantearemos un problema de ese tipo: tenemos una función que calcula las propiedades de una hélice en función de una serie de parámetros, pero no conocemos los cálculos que hace internamente. Para nosotros, es una caja negra.\n",
    "\n",
    "Para optimizar, iremos recuperando las funciones del algoritmo genético que se vieron en la parte de teoría."
   ]
  },
  {
   "cell_type": "code",
   "execution_count": 1,
   "metadata": {
    "collapsed": true
   },
   "outputs": [],
   "source": [
    "%matplotlib inline\n",
    "import numpy as np # Trabajaremos con arrays\n",
    "import matplotlib.pyplot as plt # Y vamos a pintar gráficos\n",
    "from optrot.rotor import calcular_rotor # Esta función es la que vamos a usar para calcular el rotor\n",
    "import random as random # Necesitaremos números aleatorios\n",
    "import optrot.algen as ag # Aquí están guardadas las funciones del algoritmo genético"
   ]
  },
  {
   "cell_type": "markdown",
   "metadata": {},
   "source": [
    "Empecemos echando un ojo a la función del rotor, para ver qué vamos a necesitar y con qué parámetros vamos a trabajar."
   ]
  },
  {
   "cell_type": "code",
   "execution_count": 5,
   "metadata": {
    "collapsed": false
   },
   "outputs": [
    {
     "name": "stdout",
     "output_type": "stream",
     "text": [
      "Help on function calcular_rotor in module optrot.rotor:\n",
      "\n",
      "calcular_rotor(omega, vz, R, b, h=0, theta0=0.174, tors_param=['h', 14], chord_params=0.05)\n",
      "    Calcula las propiedades de una hélice. \n",
      "    \n",
      "    Argumentos obligatorios:\n",
      "    \n",
      "        - omega: velocidad de giro de la hélice, en rad/s\n",
      "        - vz: velocidad de avance, en m/s\n",
      "        - R : radio de la hélice\n",
      "        - b : número de palas\n",
      "        \n",
      "    Argumentos opcionales:\n",
      "    \n",
      "        - h : altitud de vuelo, en metros sobre el nivel del mar\n",
      "        - theta0 : ángulo de paso colectivo\n",
      "        - tors_param : parámetros de torsión de la hélice:\n",
      "            formato: [ley, p]\n",
      "                p: Parámetro: número o lista\n",
      "                Ley:describe la forma de la ley de torsiones, y puede ser:\n",
      "                    - 'c': distribución de torsión constante = p\n",
      "                    - 'l': distribución de torsión lineal, con p[0] en la raíz y p[1] en la punta\n",
      "                    - 'h': distribución de torsión hiperbólica, con torsión p en la punta\n",
      "        - chord_params : parámetros de distribución de cuerda de la hélice.\n",
      "          Describe la forma de la pala, y puede ser:\n",
      "            - un número float: la cuerda es constante, con ese valor en metros\n",
      "            - una lista de la forma ['l', x1, x2 ]:\n",
      "                La cuerda es lineal con la posición, y mide x1 m en la raíz y x2 m en la punta  \n",
      "    Devuelve:\n",
      "    \n",
      "        - T : tracción de la hélice, en Newtons\n",
      "        - P : potencia de la hélice, en Watios\n",
      "        - efic : eficiencia o rendimiento de la hélice (a v=0 es 0 por definición)\n",
      "        - mach_punta : número de mach de las puntas de la hélice\n",
      "\n"
     ]
    }
   ],
   "source": [
    "help(calcular_rotor)"
   ]
  },
  {
   "cell_type": "markdown",
   "metadata": {},
   "source": [
    "Podemos trazar unas cuantas curvas para observar qué pinta va a tener lo que saquemos. Por ejemplo, cómo cambian las características de la hélice dependiendo de la velocidad de vuelo, para una hélice de ejemplo que gira a uyna velocidad dada."
   ]
  },
  {
   "cell_type": "code",
   "execution_count": 11,
   "metadata": {
    "collapsed": true
   },
   "outputs": [],
   "source": [
    "vel = np.linspace(0, 30, 100)\n",
    "efic = np.zeros_like(vel)\n",
    "T = np.zeros_like(vel)\n",
    "P = np.zeros_like(vel)\n",
    "mach = np.zeros_like(vel)\n",
    "for i in range(len(vel)):\n",
    "    T[i], P[i], efic[i], mach[i] = calcular_rotor(130, vel[i], 0.5, 3)"
   ]
  },
  {
   "cell_type": "code",
   "execution_count": 12,
   "metadata": {
    "collapsed": false,
    "scrolled": true
   },
   "outputs": [
    {
     "data": {
      "text/plain": [
       "<matplotlib.text.Text at 0x7f1ac253c208>"
      ]
     },
     "execution_count": 12,
     "metadata": {},
     "output_type": "execute_result"
    },
    {
     "data": {
      "image/png": "[encoded data removed]",
      "text/plain": [
       "<matplotlib.figure.Figure at 0x7f1ac25d3400>"
      ]
     },
     "metadata": {},
     "output_type": "display_data"
    }
   ],
   "source": [
    "plt.plot(vel, T)\n",
    "plt.title('Tracción de la hélice')"
   ]
  },
  {
   "cell_type": "code",
   "execution_count": 13,
   "metadata": {
    "collapsed": false
   },
   "outputs": [
    {
     "data": {
      "text/plain": [
       "<matplotlib.text.Text at 0x7f1ac2501f98>"
      ]
     },
     "execution_count": 13,
     "metadata": {},
     "output_type": "execute_result"
    },
    {
     "data": {
      "image/png": "[encoded data removed]",
      "text/plain": [
       "<matplotlib.figure.Figure at 0x7f1ac2533438>"
      ]
     },
     "metadata": {},
     "output_type": "display_data"
    }
   ],
   "source": [
    "plt.plot(vel, P)\n",
    "plt.title('Potencia consumida')"
   ]
  },
  {
   "cell_type": "code",
   "execution_count": 14,
   "metadata": {
    "collapsed": false
   },
   "outputs": [
    {
     "data": {
      "text/plain": [
       "<matplotlib.text.Text at 0x7f1ac24710f0>"
      ]
     },
     "execution_count": 14,
     "metadata": {},
     "output_type": "execute_result"
    },
    {
     "data": {
      "image/png": "[encoded data removed]",
      "text/plain": [
       "<matplotlib.figure.Figure at 0x7f1ac250d518>"
      ]
     },
     "metadata": {},
     "output_type": "display_data"
    }
   ],
   "source": [
    "plt.plot(vel, efic)\n",
    "plt.title('Eficiencia de la hélice')"
   ]
  },
  {
   "cell_type": "code",
   "execution_count": 15,
   "metadata": {
    "collapsed": false
   },
   "outputs": [
    {
     "data": {
      "text/plain": [
       "<matplotlib.text.Text at 0x7f1ac244fba8>"
      ]
     },
     "execution_count": 15,
     "metadata": {},
     "output_type": "execute_result"
    },
    {
     "data": {
      "image/png": "[encoded data removed]",
      "text/plain": [
       "<matplotlib.figure.Figure at 0x7f1ac24274a8>"
      ]
     },
     "metadata": {},
     "output_type": "display_data"
    }
   ],
   "source": [
    "plt.plot(vel, mach)\n",
    "plt.title('Mach en la punta de las palas')"
   ]
  },
  {
   "cell_type": "markdown",
   "metadata": {},
   "source": [
    "##Definiendo el genoma"
   ]
  },
  {
   "cell_type": "markdown",
   "metadata": {},
   "source": [
    "Definamos un individuo genérico: Cada individuo será un posible diseño del rotor, con unas características determinadas."
   ]
  },
  {
   "cell_type": "code",
   "execution_count": 7,
   "metadata": {
    "collapsed": true
   },
   "outputs": [],
   "source": [
    "class Individual (object):\n",
    "    \n",
    "    def __init__(self, genome):\n",
    "        \n",
    "        self.genome = genome        \n",
    "        self.traits = {}\n",
    "        self.performances = {}\n",
    "        self.fitness = 0"
   ]
  },
  {
   "cell_type": "markdown",
   "metadata": {},
   "source": [
    "Nuestro rotor depende de varios parámetros, pero en general, buscaremos optimizar el valor de unos, mateniendo un valor controlado de otros. Por ejemplo, la velocidad de avance y la altitud normalmente las impondremos, ya que querremos optimizar para una velocidad y altura de vuelos dadas.\n",
    "\n",
    "En nuestro algoritmo, usaremos como genoma los parámetros de optimización, y las variables circunstanciales las controlaremos a mano.\n",
    "\n",
    "***Sugerencia*** (esta es una manera de organizar las variables, aunque puedes escoger otras)\n",
    "\n",
    "Parámetros de optimización: \n",
    "\n",
    "- omega (velocidad de rotación) (Entre 0 y 200 radianes/segundo)\n",
    "- R (radio de la hélice) (Entre 0.1 y 2 metros)\n",
    "- b (número de palas) (Entre 2 y 5 palas) \n",
    "- theta0 (ángulo de paso colectivo) (Entre -0.26 y 0.26 radianes)(*se corresponde a -15 y 15 grados*)\n",
    "- p (parámetro de torsión) (Entre -5 y 20 grados)\n",
    "- cuerda (anchura de la pala) (Entre 0.01 y 0.2 metros)\n",
    "\n",
    "Parámetros circunstanciales:\n",
    "\n",
    "- vz (velocidad de vuelo)\n",
    "- h (altura de vuelo)\n",
    "\n",
    "Variables que se van a mantener\n",
    "\n",
    "- ley de torsión (hiperbólica)\n",
    "- formato de chord params: un solo número, para que la anchura sea constante a lo largo de la pala\n"
   ]
  },
  {
   "cell_type": "code",
   "execution_count": 8,
   "metadata": {
    "collapsed": false
   },
   "outputs": [
    {
     "data": {
      "text/plain": [
       "0.2617993877991494"
      ]
     },
     "execution_count": 8,
     "metadata": {},
     "output_type": "execute_result"
    }
   ],
   "source": [
    "15 * np.pi / 180\n"
   ]
  },
  {
   "cell_type": "markdown",
   "metadata": {},
   "source": [
    "A continuación crearemos un diccionario de genes. En él iremos almacenando los nombres de los parámetros y la cantidad de bits que usaremos para definirlos. Cuantos más bits, más resolución\n",
    "\n",
    "Ej: 1 bit : 2 valores, 2 bit : 4 valores, 10 bit : 1024 valores"
   ]
  },
  {
   "cell_type": "code",
   "execution_count": 6,
   "metadata": {
    "collapsed": true
   },
   "outputs": [],
   "source": [
    "#Completa este diccionario con las variables que hayas elegido y los bits que usarás\n",
    "\n",
    "dict_genes = {\n",
    "    'omega' : 10,\n",
    "    'R': 10,\n",
    "    'b': 2\n",
    "}"
   ]
  },
  {
   "cell_type": "markdown",
   "metadata": {},
   "source": [
    "Ahora, crearemos una función que rellene estos genomas con datos aleatorios:"
   ]
  },
  {
   "cell_type": "code",
   "execution_count": null,
   "metadata": {
    "collapsed": true
   },
   "outputs": [],
   "source": [
    "def generate_genome (dict_genes):\n",
    "    \n",
    "    #Calculamos el número total de bits con un bucle que recorra el diccionario\n",
    "    \n",
    "    n_bits = ?\n",
    "    \n",
    "    #Generamos un array aletorio de 1 y 0 de esa longitud con numpy\n",
    "    genome = np.random.randint(0, 2, nbits)\n",
    "    \n",
    "    #Transformamos el array en una lista antes de devolverlo\n",
    "    return list(genome)"
   ]
  },
  {
   "cell_type": "code",
   "execution_count": null,
   "metadata": {
    "collapsed": true
   },
   "outputs": [],
   "source": [
    "# Podemos probar a usar nuestra función, para ver qué pinta tiene el ADN de un rotor:\n",
    "generate_genome(dict_genes)"
   ]
  },
  {
   "cell_type": "markdown",
   "metadata": {},
   "source": [
    "##Trabajando con el individuo"
   ]
  },
  {
   "cell_type": "markdown",
   "metadata": {},
   "source": [
    "Ahora necesitamos una función que transforme esos genes a valores con sentido. Cada gen es un número binario cuyo valor estará entre 0 y 2 ^ n, siendo n el número de bits que hayamos escogido. Estas variables traducidas las guardaremos en otro diccionario, ya con su valor. Estos genes no están volando por ahí sueltos, sino que estarán guardados en el interior del individuo al que pertenezcan, por lo que la función deberá estar preparada para extraerlos del individuo, y guardar los resultados a su vez en el interior del individuo.\n",
    "\n"
   ]
  },
  {
   "cell_type": "code",
   "execution_count": null,
   "metadata": {
    "collapsed": true
   },
   "outputs": [],
   "source": [
    "def calculate_traits (individual, dict_genes):\n",
    "    \n",
    "   \n",
    "    genome = individual.genome \n",
    "    \n",
    "    integer_temporal_list = []\n",
    "    \n",
    "    for gen in dict_genes: #Recorremos el diccionario de genes para ir traduciendo del binario\n",
    "        \n",
    "        ??? #Buscamos los bits que se corresponden al bit en cuestión\n",
    "        \n",
    "        ??? #Pasamos de lista binaria a número entero\n",
    "        \n",
    "        integer_temporal_list.append(??) #Añadimos el entero a la lista\n",
    "    \n",
    "    # Transformamos cada entero en una variable con sentido físico:\n",
    "    # Por ejemplo, si el entero de la variable Omega está entre 0 y 1023 (10bits), \n",
    "    # pero la variable Omega real estará entre 0 y 200 radianes por segundo:\n",
    "    omega = integer_temporal_list[0] * 200 / 1023\n",
    "    \n",
    "    #del mismo modo, para R:\n",
    "    R =  0.1 + integer_temporal_list[1] * 1.9 / 1023 #Obtendremos un radio entre 0.1 y 2 metros\n",
    "    \n",
    "    #El número de palas debe ser un entero, hay que tener cuidado:\n",
    "    b = integer_temporal_list[2] + 2 #(entre 2 y 5 palas)\n",
    "    \n",
    "    #Continúa con el resto de variables que hayas elegido!\n",
    "    \n",
    "    dict_traits = {     #Aquí iremos guardando los traits, o parámetros  \n",
    "        'omega' : omega,\n",
    "        'R': R\n",
    "    }   \n",
    "    individual.traits = dict_traits #Por último, guardamos los traits en el individuo"
   ]
  },
  {
   "cell_type": "markdown",
   "metadata": {},
   "source": [
    "El siguiente paso es usar estos traits(parámetros) para calcular las performances (características o desempeños) del motor. Aquí es donde entra el modelo del motor propiamente dicho. "
   ]
  },
  {
   "cell_type": "code",
   "execution_count": null,
   "metadata": {
    "collapsed": true
   },
   "outputs": [],
   "source": [
    "def calculate_performances (individual):\n",
    "    dict_traits = individual.traits\n",
    "    \n",
    "    #Nuestras circunstancias las podemos imponer aquí, o irlas pasando como argumento a la función\n",
    "    h = 2000 #Altitud de vuelo en metros\n",
    "    vz = 70  #velocidad de avance en m/s, unos 250 km/h\n",
    "    \n",
    "    #Extraemos los traits del diccionario:\n",
    "    omega = dict_traits['omega']\n",
    "    R = dict_traits['R']\n",
    "    #... etc\n",
    "    \n",
    "    T, P, efic, mach_punta = calcular_rotor(omega, vz, R, b, h...) #Introduce las variables que uses de parámetro.\n",
    "                                                                # Consulta la ayuda para asegurarte de que usas el \n",
    "                                                                # formato correcto!\n",
    "    dict_perfo = {        \n",
    "        'T' : T, #Tracción de la hélice\n",
    "        'P' : P, #Potencia consumida por la hélice\n",
    "        'efic': efic, #Eficiencia propulsiva de la hélice\n",
    "        'mach_punta': mach_punta #Mach en la punta de las palas\n",
    "    }\n",
    "    \n",
    "    individual.performances = dict_perfo"
   ]
  },
  {
   "cell_type": "markdown",
   "metadata": {},
   "source": [
    "Comprobemos si todo funciona!"
   ]
  },
  {
   "cell_type": "code",
   "execution_count": null,
   "metadata": {
    "collapsed": false
   },
   "outputs": [],
   "source": [
    "individuo = Individual(generate_genome(dict_genes))\n",
    "calculate_traits(individuo, dict_genes)\n",
    "calculate_performances(individuo)\n",
    "\n",
    "print(individuo.traits)\n",
    "print(individuo.performances)"
   ]
  },
  {
   "cell_type": "markdown",
   "metadata": {},
   "source": [
    "El último paso que tenemos que realizar sobre el individuo es uno de los más críticos: Transformar las performances en un valor único (fitness) que con exprese cómo de bueno es con respecto al objetivo de optimización. La función de fitness puede ser función de parámetros(traits) y performances, dependiendo de qué queramos optimizar.\n",
    "\n",
    "Por ejemplo, si buscáramos que tuviera la tracción máxima sin preocuparnos de nada más, el valor de fitnes sería simplemente igual al de T:\n",
    "\n",
    "    fitness = T\n",
    "\n",
    "Si queremos imponer restricciones, por ejemplo, que la potencia sea menor a 1000 watios, se pueden añadir sentencias del tipo:\n",
    "\n",
    "    if P > 1000:\n",
    "        fitness -= 1000\n",
    "        \n",
    "Se puede hacer depender la fitness de varios parámetros de manera ponderada:\n",
    "\n",
    "    fitness = parámetro_importante * 10 + parámetro_poco_importante * 0.5\n",
    "    \n",
    "Ahora te toca ser creativo! Elige con qué objetivo quieres optimizar la hélice!\n",
    "\n",
    "Sugerencias de posibles objetivos de optimización:\n",
    "\n",
    "- Mínimo radio posible, manteniendo una tracción mínima de 30 Newtons\n",
    "- Mínima potencia posible, máxima eficiencia, y mínimo radio posible en menor medida, manteniendo una tracción mínima de 40 Newtons y un mach en la punta de las palas de como mucho 0.7\n",
    "- Mínima potencia posible y máxima eficiencia cuando vuela a 70 m/s, tracción mayor a 50 Newtons en el despegue (vz = 0), mínimo peso posible (calculado a partir del radio, número y anchura de las palas) (Puede que tengas que reescribir la función y el diccionario de performances!)"
   ]
  },
  {
   "cell_type": "code",
   "execution_count": null,
   "metadata": {
    "collapsed": true
   },
   "outputs": [],
   "source": [
    "def calculate_fitness (individual):\n",
    "    \n",
    "    dict_traits = individuo.traits\n",
    "    dict_performances = individuo.performances\n",
    "    \n",
    "    fitness = ????? #Be Creative!\n",
    "    \n",
    "    \n",
    "    individual.fitness = fitness"
   ]
  },
  {
   "cell_type": "markdown",
   "metadata": {},
   "source": [
    "Ya tenemos terminado todo lo que necesitamos a nivel de individuo!"
   ]
  },
  {
   "cell_type": "markdown",
   "metadata": {},
   "source": [
    "## Que comiencen los Juegos!"
   ]
  },
  {
   "cell_type": "markdown",
   "metadata": {},
   "source": [
    "Es hora de trabajar a nivel de algoritmo, y para ello, lo primero es crear una sociedad compuesta de individuos aleatorios. Definamos una función para ello."
   ]
  },
  {
   "cell_type": "code",
   "execution_count": null,
   "metadata": {
    "collapsed": true
   },
   "outputs": [],
   "source": [
    "def immigration (society, target_population, dict_genes):\n",
    "    \n",
    "    while len(society) < target_population:\n",
    "        \n",
    "        new_individual = Individual (generate_genome (dict_genes)) # Generamos un individuo aleatorio\n",
    "        calculate_traits (new_individual, dict_genes) # Calculamos sus traits\n",
    "        calculate_performances (new_individual) # Calculamos sus performances\n",
    "        calculate_fitness (new_individual) # Calculamos su fitness\n",
    "        \n",
    "        society.append (new_individual) # Nuestro nuevo ciudadano está listo para unirse al grupo! "
   ]
  },
  {
   "cell_type": "markdown",
   "metadata": {},
   "source": [
    "Ahora podemos crear nuestra sociedad:"
   ]
  },
  {
   "cell_type": "code",
   "execution_count": null,
   "metadata": {
    "collapsed": true
   },
   "outputs": [],
   "source": [
    "society = []\n",
    "immigration (society, 12, dict_genes) #12 por ejemplo, pueden ser los que sean\n",
    "\n",
    "\n",
    "#Veamos qué pinta tienen los genes de la población\n",
    "plt.matshow([individual.genome for individual in society], cmap=plt.cm.gray)"
   ]
  },
  {
   "cell_type": "markdown",
   "metadata": {},
   "source": [
    "Ya tenemos nuestra pequeña sociedad, aumentémosla un poco más mezclando entre sí a los ciudadanos con mejores fitness! Vamos a extender nuestra población mezclando los genomas de otros individuos. Los individuos con mejor fitness es más probable que se reproduzcan. Además, en los nuevos individuos produciremos ligeras mutaciones aleatorias."
   ]
  },
  {
   "cell_type": "code",
   "execution_count": null,
   "metadata": {
    "collapsed": true
   },
   "outputs": [],
   "source": [
    "#This function was taken from Eli Bendersky's website\n",
    "#It returns an index of a list called \"weights\", \n",
    "#where the content of each element in \"weights\" is the probability of this index to be returned.\n",
    "#For this function to be as fast as possible we need to pass it a list of weights in descending order.\n",
    "def weighted_choice_sub(weights):\n",
    "    \n",
    "    rnd = random.random() * sum(weights)\n",
    "    for i, w in enumerate(weights):\n",
    "        rnd -= w\n",
    "        if rnd < 0:\n",
    "            return i\n",
    "\n",
    "def crossover (society, reproduction_rate, mutation_rate):\n",
    "    \n",
    "    #First we create a list with the fitness values of every individual in the society\n",
    "    fitness_list = [individual.fitness for individual in society]\n",
    "    \n",
    "    #We sort the individuals in the society in descending order of fitness.   \n",
    "    society_sorted = [x for (y, x) in sorted(zip(fitness_list, society), key=lambda x: x[0], reverse=True)] \n",
    "    \n",
    "    #We then create a list of relative probabilities in descending order, \n",
    "    #so that the fittest individual in the society has N times more chances to reproduce than the least fit,\n",
    "    #where N is the number of individuals in the society.\n",
    "    probability = [i for i in reversed(range(1,len(society_sorted)+1))]\n",
    "    \n",
    "    #We create a list of weights with the probabilities of non-mutation and mutation\n",
    "    mutation = [1 - mutation_rate, mutation_rate]    \n",
    "    \n",
    "    #For every new individual to be created through reproduction:\n",
    "    for i in range (int(len(society) * reproduction_rate)):\n",
    "        \n",
    "        #We select two parents randomly, using the list of probabilities in \"probability\".\n",
    "        father, mother = society_sorted[weighted_choice_sub(probability)], society_sorted[weighted_choice_sub(probability)]\n",
    "        \n",
    "        #We randomly select two cutting points for the genome.\n",
    "        a, b = random.randrange(0, len(father.genome)), random.randrange(0, len(father.genome))\n",
    "        \n",
    "        #And we create the genome of the child putting together the genome slices of the parents in the cutting points.\n",
    "        child_genome = father.genome[0:min(a,b)]+mother.genome[min(a,b):max(a,b)]+father.genome[max(a,b):]\n",
    "        \n",
    "        #For every bit in the not-yet-born child, we generate a list containing \n",
    "        #1's in the positions where the genome must mutate (i.e. the bit must switch its value)\n",
    "        #and 0's in the positions where the genome must stay the same.\n",
    "        n = [weighted_choice_sub(mutation) for ii in range(len(child_genome))]\n",
    "        \n",
    "        #This line switches the bits of the genome of the child that must mutate.\n",
    "        mutant_child_genome = [abs(n[i] -  child_genome[i]) for i in range(len(child_genome))]\n",
    "        \n",
    "        #We finally append the newborn individual to the society\n",
    "        newborn = Individual(mutant_child_genome)\n",
    "        calculate_traits (newborn, dict_genes)\n",
    "        calculate_performances (newborn)\n",
    "        calculate_fitness (newborn)\n",
    "        society.append(newborn)     "
   ]
  },
  {
   "cell_type": "markdown",
   "metadata": {},
   "source": [
    "Ahora que tenemos una sociedad extensa, es el momento de que actúe la selección \"natural\": Eliminaremos de la sociedad a los individuos con peor fitness hasta llegar a una población objetivo."
   ]
  },
  {
   "cell_type": "code",
   "execution_count": null,
   "metadata": {
    "collapsed": true
   },
   "outputs": [],
   "source": [
    "def tournament(society, target_population):\n",
    "    \n",
    "    while len(society) > target_population:\n",
    "            \n",
    "        fitness_list = [individual.fitness for individual in society]\n",
    "        society.pop(fitness_list.index(min(fitness_list)))"
   ]
  },
  {
   "cell_type": "markdown",
   "metadata": {},
   "source": [
    "Ya tenemos nuestro algoritmo prácticamente terminado!"
   ]
  },
  {
   "cell_type": "code",
   "execution_count": null,
   "metadata": {
    "collapsed": true
   },
   "outputs": [],
   "source": [
    "society = []\n",
    "fitness_max = []\n",
    "\n",
    "for generation in range(30):\n",
    "    \n",
    "    immigration (society, 100, dict_genes) #Añade individuos aleatorios a la sociedad hasta tener 100\n",
    "    fitness_max += [max([individual.fitness for individual in society])]\n",
    "    \n",
    "    tournament (society, 15) #Los hace competir hasta que quedan 15\n",
    "    crossover(society, 5, 0.05) #Los ganadores se reproducen hasta tener 75\n",
    "    \n",
    "    \n",
    "plt.plot(fitness_max)\n",
    "plt.title('Evolución del valor de fitness')\n",
    "\n",
    "tournament (society, 1) #Buscamos el mejor de todos\n",
    "winner = society[0]\n",
    "\n",
    "print(winner.traits) #Comprobamos sus características\n",
    "print(winner.performances)\n"
   ]
  },
  {
   "cell_type": "code",
   "execution_count": null,
   "metadata": {
    "collapsed": true
   },
   "outputs": [],
   "source": []
  },
  {
   "cell_type": "code",
   "execution_count": null,
   "metadata": {
    "collapsed": true
   },
   "outputs": [],
   "source": []
  },
  {
   "cell_type": "markdown",
   "metadata": {},
   "source": [
    "Siro Moreno y Carlos Dorado, Aeropython, 20 de Noviembre de 2015"
   ]
  },
  {
   "cell_type": "code",
   "execution_count": null,
   "metadata": {
    "collapsed": true
   },
   "outputs": [],
   "source": []
  }
 ],
 "metadata": {
  "kernelspec": {
   "display_name": "Python 3",
   "language": "python",
   "name": "python3"
  },
  "language_info": {
   "codemirror_mode": {
    "name": "ipython",
    "version": 3
   },
   "file_extension": ".py",
   "mimetype": "text/x-python",
   "name": "python",
   "nbconvert_exporter": "python",
   "pygments_lexer": "ipython3",
   "version": "3.4.3"
  }
 },
 "nbformat": 4,
 "nbformat_minor": 0
}

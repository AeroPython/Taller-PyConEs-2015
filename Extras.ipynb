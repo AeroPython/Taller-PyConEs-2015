{
 "cells": [
  {
   "cell_type": "markdown",
   "metadata": {},
   "source": [
    "![Aeropython Logo](/files/imagenes/aeropython_logo.png)"
   ]
  },
  {
   "cell_type": "markdown",
   "metadata": {},
   "source": [
    "Esperamos que te haya gustado el taller!\n",
    "\n",
    "Si te interesa, puedes mirar qué mas cosas tenemos en la página de github de Aeropython https://github.com/AeroPython, o en nuestras páginas personales de Github: https://github.com/AunSiro https://github.com/cdorado\n",
    "\n",
    "Puedes contactarnos por Twitter y linkedin:\n",
    "\n",
    "https://twitter.com/AeroPython https://twitter.com/bocatadelechuga https://twitter.com/Aun_Siro\n",
    "\n",
    "https://es.linkedin.com/in/siro-moreno-martín-1bab18b7 https://es.linkedin.com/in/carlosdoradocardenas"
   ]
  },
  {
   "cell_type": "markdown",
   "metadata": {},
   "source": [
    "#¿Desea saber más?"
   ]
  },
  {
   "cell_type": "markdown",
   "metadata": {},
   "source": [
    "![Desire to know more intensifies](/files/imagenes/Knowmore.jpg)"
   ]
  },
  {
   "cell_type": "markdown",
   "metadata": {},
   "source": [
    "Existe un paquete muy completo para optimización con algoritmos genéticos en Python: DEAP\n",
    "\n",
    "https://github.com/DEAP/deap\n",
    "\n",
    "Es demasiado completo para la introducción que pretendíamos abordar en este taller, pero si te ha gustado, ¡Te recomendamos que le eches un ojo!"
   ]
  },
  {
   "cell_type": "markdown",
   "metadata": {},
   "source": [
    "Gran parte de los ejercicios están inspirados en los materiales de Evolife por el profesor **Jean-Louis Dessalles** de Paris Telecom. Puedes consultar este proyecto aquí: http://evolife.dessalles.fr/"
   ]
  },
  {
   "cell_type": "markdown",
   "metadata": {
    "collapsed": true
   },
   "source": [
    "En internet hay gran cantidad de proyectos e información sobre estos temas. Aquí tienes un ejemplo sobre una simulación de colonia de hormigas http://www.nightlab.ch/antsim.php , y un par de vídeos sobre algoritmos genéticos:\n",
    "\n",
    "https://www.youtube.com/watch?v=Gl3EjiVlz_4\n",
    "\n",
    "https://www.youtube.com/watch?v=pgaEE27nsQw\n",
    "\n",
    "https://www.youtube.com/watch?v=fyVr7gdGEPE\n",
    "\n",
    "https://www.youtube.com/watch?v=HgWQ-gPIvt4"
   ]
  },
  {
   "cell_type": "code",
   "execution_count": null,
   "metadata": {
    "collapsed": true
   },
   "outputs": [],
   "source": []
  }
 ],
 "metadata": {
  "kernelspec": {
   "display_name": "Python 3",
   "language": "python",
   "name": "python3"
  },
  "language_info": {
   "codemirror_mode": {
    "name": "ipython",
    "version": 3
   },
   "file_extension": ".py",
   "mimetype": "text/x-python",
   "name": "python",
   "nbconvert_exporter": "python",
   "pygments_lexer": "ipython3",
   "version": "3.4.3"
  }
 },
 "nbformat": 4,
 "nbformat_minor": 0
}

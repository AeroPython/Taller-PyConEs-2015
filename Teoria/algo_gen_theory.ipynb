{
 "cells": [
  {
   "cell_type": "markdown",
   "metadata": {},
   "source": [
    "<img src=\"files/john_holland.jpg\" alt=\"John Holland, inventor de los algoritmos genéticos\" style=\"width: 300px;\"/>"
   ]
  },
  {
   "cell_type": "markdown",
   "metadata": {},
   "source": [
    "$$John \\, H. \\, Holland \\, (1929 - 2015)$$"
   ]
  },
  {
   "cell_type": "markdown",
   "metadata": {},
   "source": [
    "> *I have more ideas than I can ever follow up on in a lifetime, so I never worry if someone steals an idea from me*. "
   ]
  },
  {
   "cell_type": "markdown",
   "metadata": {},
   "source": [
    ">Físico y matemático\n",
    "\n",
    ">Profesor de Ciencias de la Computación, Ingeniería Eléctrica y Psicología (sí, Psicología)\n",
    "\n",
    ">Padre del algoritmo genético y pionero de los sistemas complejos adaptativos"
   ]
  },
  {
   "cell_type": "code",
   "execution_count": 10,
   "metadata": {
    "collapsed": false
   },
   "outputs": [
    {
     "data": {
      "text/html": [
       "<script>\n",
       "code_show=true; \n",
       "function code_toggle() {\n",
       " if (code_show){\n",
       " $('div.input').hide();\n",
       " } else {\n",
       " $('div.input').show();\n",
       " }\n",
       " code_show = !code_show\n",
       "} \n",
       "$( document ).ready(code_toggle);\n",
       "</script>\n",
       "<form action=\"javascript:code_toggle()\"><input type=\"submit\" value=\"Click here to toggle on/off the raw code.\"></form>"
      ],
      "text/plain": [
       "<IPython.core.display.HTML object>"
      ]
     },
     "execution_count": 10,
     "metadata": {},
     "output_type": "execute_result"
    }
   ],
   "source": [
    "from IPython.core.display import HTML\n",
    "\n",
    "HTML('''<script>\n",
    "code_show=true; \n",
    "function code_toggle() {\n",
    " if (code_show){\n",
    " $('div.input').hide();\n",
    " } else {\n",
    " $('div.input').show();\n",
    " }\n",
    " code_show = !code_show\n",
    "} \n",
    "$( document ).ready(code_toggle);\n",
    "</script>\n",
    "<form action=\"javascript:code_toggle()\"><input type=\"submit\" value=\"Click here to toggle on/off the raw code.\"></form>''')"
   ]
  },
  {
   "cell_type": "code",
   "execution_count": 1,
   "metadata": {
    "collapsed": true
   },
   "outputs": [],
   "source": [
    "import numpy as np\n",
    "import pandas as pd\n",
    "import random as random\n",
    "import matplotlib.pyplot as plt\n",
    "import seaborn as sns\n",
    "sns.set(style='ticks', palette='Set2')\n",
    "%matplotlib inline"
   ]
  },
  {
   "cell_type": "markdown",
   "metadata": {},
   "source": [
    "#Resolución directa de problemas"
   ]
  },
  {
   "cell_type": "markdown",
   "metadata": {},
   "source": [
    "Normalmente, cuando tenemos un problema intentamos resolverlo directamente. Es decir, a partir de las premisas del problema, aplicamos un método que nos ofrece una solución que cumpla las premisas y nos quedamos a gusto. "
   ]
  },
  {
   "cell_type": "markdown",
   "metadata": {},
   "source": [
    "$$PROBLEM - \\underline{method} \\, -> SOLUTION$$"
   ]
  },
  {
   "cell_type": "markdown",
   "metadata": {},
   "source": [
    "Muchos de los problemas que intentamos resolver (por no decir todos) son problemas de optimización. Un problema de optimización es aquel en el que intentamos minimizar o maximizar el valor de algo. Por ejemplo: ¿qué carrocería ofrece menos resistencia aerodinámica? ¿en qué momentos debo comprar y vender para maximizar mi beneficio en este mercado bursátil? ¿qué regalo le gustará más a mi novia?"
   ]
  },
  {
   "cell_type": "markdown",
   "metadata": {},
   "source": [
    "Imaginemos que queremos optimizar la cantidad de sueño que disfrutamos cada noche y que conocemos la función del descanso con el tiempo de sueño (en horas):"
   ]
  },
  {
   "cell_type": "markdown",
   "metadata": {},
   "source": [
    "$$Descanso = \\frac{1}{2200} \\cdot (tiempo^3 - 50 \\cdot tiempo ^2 + 600 \\cdot tiempo)$$"
   ]
  },
  {
   "cell_type": "code",
   "execution_count": 2,
   "metadata": {
    "collapsed": true
   },
   "outputs": [],
   "source": [
    "num_hora = 20\n",
    "horas = np.linspace(0, 12, num_hora*12+1)\n",
    "descanso = [(tiempo**3 - 50*tiempo**2 + 600*tiempo)/2200 for tiempo in horas]"
   ]
  },
  {
   "cell_type": "code",
   "execution_count": 3,
   "metadata": {
    "collapsed": false,
    "scrolled": false
   },
   "outputs": [
    {
     "data": {
      "image/png": "[encoded data removed]",
      "text/plain": [
       "<matplotlib.figure.Figure at 0xa5ff0f0>"
      ]
     },
     "metadata": {},
     "output_type": "display_data"
    }
   ],
   "source": [
    "with plt.xkcd():\n",
    "    plt.figure(figsize=(15, 5))\n",
    "    plt.plot(horas, descanso)\n",
    "    plt.xlabel(\"$horas$\", fontsize=20)\n",
    "    plt.ylabel(\"$descanso$\", fontsize=20)\n",
    "    sns.despine()"
   ]
  },
  {
   "cell_type": "markdown",
   "metadata": {},
   "source": [
    "La teoría de la optimización nos dice que debemos derivar esta función e igualar el resultado a 0 para calcular el máximo local. Obtenemos:"
   ]
  },
  {
   "cell_type": "markdown",
   "metadata": {},
   "source": [
    "$$\\frac {d}{d t}(Descanso) = \\frac{1}{2200} \\cdot (3 \\cdot tiempo^2 - 100 \\cdot tiempo + 600) = 0$$"
   ]
  },
  {
   "cell_type": "markdown",
   "metadata": {},
   "source": [
    "Aplicando el método de resolución de ecuaciones cuadráticas:"
   ]
  },
  {
   "cell_type": "markdown",
   "metadata": {},
   "source": [
    "$$ tiempo_{max} = \\frac {100 - \\sqrt {100^2 - 4 \\cdot 3 \\cdot 600}}{2 \\cdot 3} = 7.85 \\, h $$"
   ]
  },
  {
   "cell_type": "code",
   "execution_count": 4,
   "metadata": {
    "collapsed": false,
    "scrolled": false
   },
   "outputs": [
    {
     "data": {
      "image/png": "[encoded data removed]",
      "text/plain": [
       "<matplotlib.figure.Figure at 0xab7cc50>"
      ]
     },
     "metadata": {},
     "output_type": "display_data"
    }
   ],
   "source": [
    "hora_max = 7.85\n",
    "with plt.xkcd():\n",
    "    plt.figure(figsize=(15, 5))\n",
    "    plt.plot(horas, descanso)\n",
    "    plt.vlines(hora_max, 0, 1, colors = 'r' ,linestyles = 'dashed')\n",
    "    plt.xlabel(\"$horas$\", fontsize=20)\n",
    "    plt.ylabel(\"$descanso$\", fontsize=20)\n",
    "    sns.despine()\n"
   ]
  },
  {
   "cell_type": "markdown",
   "metadata": {},
   "source": [
    "#Resolución de problemas mediante métodos heurísticos"
   ]
  },
  {
   "cell_type": "markdown",
   "metadata": {},
   "source": [
    "Muchas veces no contamos con un método de resolución directo. A veces no sabemos de qué relaciones depende el problema o el sistema de ecuaciones que lo gobierna es trascendental (es decir, no tiene solución), como las ecuaciones de Navier-Stokes. Muchas veces, las funciones de las que depende el problema simplemente no son derivables o es muy complicado derivarlas. En todos estos casos hay que recurrir a un método heurístico para tratar de resolver el problema:"
   ]
  },
  {
   "cell_type": "markdown",
   "metadata": {},
   "source": [
    "$$proposed \\, solution - \\underline{PROBLEM} \\, -> evaluation$$\n",
    "$$proposed \\, solution - \\underline{PROBLEM} \\, -> evaluation$$\n",
    "$$proposed \\, solution - \\underline{PROBLEM} \\, -> evaluation$$\n",
    "$$...$$"
   ]
  },
  {
   "cell_type": "markdown",
   "metadata": {},
   "source": [
    "Veamos, por ejemplo, cómo se complica el problema anterior añadiendo algunas consideraciones adicionales. Se ha demostrado que el sueño no es un proceso continuo, sino que pasa por una serie de ciclos de unos 90 minutos, en los que el nivel alerta evoluciona siguiendo un patrón típico como el siguiente:"
   ]
  },
  {
   "cell_type": "code",
   "execution_count": 5,
   "metadata": {
    "collapsed": false,
    "scrolled": false
   },
   "outputs": [
    {
     "data": {
      "image/png": "[encoded data removed]",
      "text/plain": [
       "<matplotlib.figure.Figure at 0xa68f5c0>"
      ]
     },
     "metadata": {},
     "output_type": "display_data"
    }
   ],
   "source": [
    "vigilia = []\n",
    "vigilia += 5 * [1]\n",
    "vigilia += 10 * [0.6] \n",
    "vigilia += 5 * [0.4] \n",
    "vigilia += 10 * [0.2] \n",
    "vigilia += 20 * [0] \n",
    "vigilia += 5 * [0.2] \n",
    "vigilia += 5 * [0.4] \n",
    "vigilia += 5 * [0.8] \n",
    "vigilia += 5 * [0.4] \n",
    "vigilia += 5 * [0.2] \n",
    "vigilia += 10 * [0] \n",
    "vigilia += 5 * [0.2]\n",
    "vigilia += 5 * [0.4] \n",
    "vigilia += 10 * [0.8] \n",
    "vigilia += 5 * [0.4] \n",
    "vigilia += 5 * [0.2] \n",
    "vigilia += 5 * [0] \n",
    "vigilia += 5 * [0.2]\n",
    "vigilia += 5 * [0.4] \n",
    "vigilia += 20 * [0.8] \n",
    "vigilia += 5 * [0.4] \n",
    "vigilia += 5 * [0.2] \n",
    "vigilia += 5 * [0.4] \n",
    "vigilia += 40 * [0.8] \n",
    "vigilia += 5 * [0.4] \n",
    "vigilia += 5 * [0.2] \n",
    "vigilia += 5 * [0.4]\n",
    "vigilia += 21 * [0.8]\n",
    "\n",
    "plt.figure(figsize=(15,5))\n",
    "plt.plot(horas, vigilia)\n",
    "plt.title('$Evolución \\, de \\, la \\, alerta \\, durante \\, el \\, sueño$', fontsize=20)\n",
    "plt.xlabel(\"$horas$\", fontsize=15)\n",
    "sns.despine()"
   ]
  },
  {
   "cell_type": "markdown",
   "metadata": {
    "collapsed": true
   },
   "source": [
    "Naturalmente, es más fácil despertar cuando el nivel de alerta es más alto y además la sensación de descanso es mayor. En cambio, si se fuerza el despertar (por ejemplo mediante un despertador) en un momento del ciclo en el que el sueño es muy profundo, nos despertamos abotargados y cansados. La evolución del descanso seguirá una evolución como la siguiente:"
   ]
  },
  {
   "cell_type": "code",
   "execution_count": 6,
   "metadata": {
    "collapsed": false
   },
   "outputs": [
    {
     "data": {
      "image/png": "[encoded data removed]",
      "text/plain": [
       "<matplotlib.figure.Figure at 0xac891d0>"
      ]
     },
     "metadata": {},
     "output_type": "display_data"
    }
   ],
   "source": [
    "descanso_ciclos = list(np.array(vigilia)*np.array(descanso))\n",
    "with plt.xkcd():\n",
    "    plt.figure(figsize=(15,5))\n",
    "    plt.plot(horas, descanso_ciclos)\n",
    "    plt.xlabel(\"$horas$\", fontsize=20)\n",
    "    plt.ylabel(\"$descanso$\", fontsize=20)\n",
    "    sns.despine()"
   ]
  },
  {
   "cell_type": "markdown",
   "metadata": {},
   "source": [
    "Esta función ni siquiera es derivable, ¿cómo podemos encontrar el óptimo? Un método heurístico muy sencillo consistiría en muestrear la función con un nivel de precisión suficiente y escoger el punto que se corresponda con el nivel de descanso más alto:"
   ]
  },
  {
   "cell_type": "code",
   "execution_count": 7,
   "metadata": {
    "collapsed": false,
    "scrolled": true
   },
   "outputs": [
    {
     "data": {
      "text/html": [
       "<div style=\"max-height:1000px;max-width:1500px;overflow:auto;\">\n",
       "<table border=\"1\" class=\"dataframe\">\n",
       "  <thead>\n",
       "    <tr style=\"text-align: right;\">\n",
       "      <th></th>\n",
       "      <th>Tiempo de descanso (horas)</th>\n",
       "      <th>Nivel de descanso</th>\n",
       "    </tr>\n",
       "  </thead>\n",
       "  <tbody>\n",
       "    <tr>\n",
       "      <th>Muestra 1</th>\n",
       "      <td>0.00</td>\n",
       "      <td>0.000000</td>\n",
       "    </tr>\n",
       "    <tr>\n",
       "      <th>Muestra 2</th>\n",
       "      <td>0.05</td>\n",
       "      <td>0.013580</td>\n",
       "    </tr>\n",
       "    <tr>\n",
       "      <th>Muestra 3</th>\n",
       "      <td>0.10</td>\n",
       "      <td>0.027046</td>\n",
       "    </tr>\n",
       "    <tr>\n",
       "      <th>Muestra 4</th>\n",
       "      <td>0.15</td>\n",
       "      <td>0.040399</td>\n",
       "    </tr>\n",
       "    <tr>\n",
       "      <th>Muestra 5</th>\n",
       "      <td>0.20</td>\n",
       "      <td>0.053640</td>\n",
       "    </tr>\n",
       "    <tr>\n",
       "      <th>Muestra 6</th>\n",
       "      <td>0.25</td>\n",
       "      <td>0.040061</td>\n",
       "    </tr>\n",
       "    <tr>\n",
       "      <th>Muestra 7</th>\n",
       "      <td>0.30</td>\n",
       "      <td>0.047871</td>\n",
       "    </tr>\n",
       "    <tr>\n",
       "      <th>Muestra 8</th>\n",
       "      <td>0.35</td>\n",
       "      <td>0.055614</td>\n",
       "    </tr>\n",
       "    <tr>\n",
       "      <th>Muestra 9</th>\n",
       "      <td>0.40</td>\n",
       "      <td>0.063290</td>\n",
       "    </tr>\n",
       "    <tr>\n",
       "      <th>Muestra 10</th>\n",
       "      <td>0.45</td>\n",
       "      <td>0.070900</td>\n",
       "    </tr>\n",
       "    <tr>\n",
       "      <th>Muestra 11</th>\n",
       "      <td>0.50</td>\n",
       "      <td>0.078443</td>\n",
       "    </tr>\n",
       "    <tr>\n",
       "      <th>Muestra 12</th>\n",
       "      <td>0.55</td>\n",
       "      <td>0.085920</td>\n",
       "    </tr>\n",
       "    <tr>\n",
       "      <th>Muestra 13</th>\n",
       "      <td>0.60</td>\n",
       "      <td>0.093332</td>\n",
       "    </tr>\n",
       "    <tr>\n",
       "      <th>Muestra 14</th>\n",
       "      <td>0.65</td>\n",
       "      <td>0.100677</td>\n",
       "    </tr>\n",
       "    <tr>\n",
       "      <th>Muestra 15</th>\n",
       "      <td>0.70</td>\n",
       "      <td>0.107957</td>\n",
       "    </tr>\n",
       "    <tr>\n",
       "      <th>Muestra 16</th>\n",
       "      <td>0.75</td>\n",
       "      <td>0.076781</td>\n",
       "    </tr>\n",
       "    <tr>\n",
       "      <th>Muestra 17</th>\n",
       "      <td>0.80</td>\n",
       "      <td>0.081548</td>\n",
       "    </tr>\n",
       "    <tr>\n",
       "      <th>Muestra 18</th>\n",
       "      <td>0.85</td>\n",
       "      <td>0.086271</td>\n",
       "    </tr>\n",
       "    <tr>\n",
       "      <th>Muestra 19</th>\n",
       "      <td>0.90</td>\n",
       "      <td>0.090951</td>\n",
       "    </tr>\n",
       "    <tr>\n",
       "      <th>Muestra 20</th>\n",
       "      <td>0.95</td>\n",
       "      <td>0.095588</td>\n",
       "    </tr>\n",
       "    <tr>\n",
       "      <th>Muestra 21</th>\n",
       "      <td>1.00</td>\n",
       "      <td>0.050091</td>\n",
       "    </tr>\n",
       "    <tr>\n",
       "      <th>Muestra 22</th>\n",
       "      <td>1.05</td>\n",
       "      <td>0.052367</td>\n",
       "    </tr>\n",
       "    <tr>\n",
       "      <th>Muestra 23</th>\n",
       "      <td>1.10</td>\n",
       "      <td>0.054621</td>\n",
       "    </tr>\n",
       "    <tr>\n",
       "      <th>Muestra 24</th>\n",
       "      <td>1.15</td>\n",
       "      <td>0.056854</td>\n",
       "    </tr>\n",
       "    <tr>\n",
       "      <th>Muestra 25</th>\n",
       "      <td>1.20</td>\n",
       "      <td>0.059066</td>\n",
       "    </tr>\n",
       "    <tr>\n",
       "      <th>Muestra 26</th>\n",
       "      <td>1.25</td>\n",
       "      <td>0.061257</td>\n",
       "    </tr>\n",
       "    <tr>\n",
       "      <th>Muestra 27</th>\n",
       "      <td>1.30</td>\n",
       "      <td>0.063427</td>\n",
       "    </tr>\n",
       "    <tr>\n",
       "      <th>Muestra 28</th>\n",
       "      <td>1.35</td>\n",
       "      <td>0.065576</td>\n",
       "    </tr>\n",
       "    <tr>\n",
       "      <th>Muestra 29</th>\n",
       "      <td>1.40</td>\n",
       "      <td>0.067704</td>\n",
       "    </tr>\n",
       "    <tr>\n",
       "      <th>Muestra 30</th>\n",
       "      <td>1.45</td>\n",
       "      <td>0.069811</td>\n",
       "    </tr>\n",
       "    <tr>\n",
       "      <th>...</th>\n",
       "      <td>...</td>\n",
       "      <td>...</td>\n",
       "    </tr>\n",
       "    <tr>\n",
       "      <th>Muestra 212</th>\n",
       "      <td>10.55</td>\n",
       "      <td>0.176283</td>\n",
       "    </tr>\n",
       "    <tr>\n",
       "      <th>Muestra 213</th>\n",
       "      <td>10.60</td>\n",
       "      <td>0.175729</td>\n",
       "    </tr>\n",
       "    <tr>\n",
       "      <th>Muestra 214</th>\n",
       "      <td>10.65</td>\n",
       "      <td>0.175166</td>\n",
       "    </tr>\n",
       "    <tr>\n",
       "      <th>Muestra 215</th>\n",
       "      <td>10.70</td>\n",
       "      <td>0.174595</td>\n",
       "    </tr>\n",
       "    <tr>\n",
       "      <th>Muestra 216</th>\n",
       "      <td>10.75</td>\n",
       "      <td>0.348031</td>\n",
       "    </tr>\n",
       "    <tr>\n",
       "      <th>Muestra 217</th>\n",
       "      <td>10.80</td>\n",
       "      <td>0.346857</td>\n",
       "    </tr>\n",
       "    <tr>\n",
       "      <th>Muestra 218</th>\n",
       "      <td>10.85</td>\n",
       "      <td>0.345666</td>\n",
       "    </tr>\n",
       "    <tr>\n",
       "      <th>Muestra 219</th>\n",
       "      <td>10.90</td>\n",
       "      <td>0.344460</td>\n",
       "    </tr>\n",
       "    <tr>\n",
       "      <th>Muestra 220</th>\n",
       "      <td>10.95</td>\n",
       "      <td>0.343238</td>\n",
       "    </tr>\n",
       "    <tr>\n",
       "      <th>Muestra 221</th>\n",
       "      <td>11.00</td>\n",
       "      <td>0.684000</td>\n",
       "    </tr>\n",
       "    <tr>\n",
       "      <th>Muestra 222</th>\n",
       "      <td>11.05</td>\n",
       "      <td>0.681494</td>\n",
       "    </tr>\n",
       "    <tr>\n",
       "      <th>Muestra 223</th>\n",
       "      <td>11.10</td>\n",
       "      <td>0.678957</td>\n",
       "    </tr>\n",
       "    <tr>\n",
       "      <th>Muestra 224</th>\n",
       "      <td>11.15</td>\n",
       "      <td>0.676389</td>\n",
       "    </tr>\n",
       "    <tr>\n",
       "      <th>Muestra 225</th>\n",
       "      <td>11.20</td>\n",
       "      <td>0.673792</td>\n",
       "    </tr>\n",
       "    <tr>\n",
       "      <th>Muestra 226</th>\n",
       "      <td>11.25</td>\n",
       "      <td>0.671165</td>\n",
       "    </tr>\n",
       "    <tr>\n",
       "      <th>Muestra 227</th>\n",
       "      <td>11.30</td>\n",
       "      <td>0.668508</td>\n",
       "    </tr>\n",
       "    <tr>\n",
       "      <th>Muestra 228</th>\n",
       "      <td>11.35</td>\n",
       "      <td>0.665822</td>\n",
       "    </tr>\n",
       "    <tr>\n",
       "      <th>Muestra 229</th>\n",
       "      <td>11.40</td>\n",
       "      <td>0.663107</td>\n",
       "    </tr>\n",
       "    <tr>\n",
       "      <th>Muestra 230</th>\n",
       "      <td>11.45</td>\n",
       "      <td>0.660363</td>\n",
       "    </tr>\n",
       "    <tr>\n",
       "      <th>Muestra 231</th>\n",
       "      <td>11.50</td>\n",
       "      <td>0.657591</td>\n",
       "    </tr>\n",
       "    <tr>\n",
       "      <th>Muestra 232</th>\n",
       "      <td>11.55</td>\n",
       "      <td>0.654791</td>\n",
       "    </tr>\n",
       "    <tr>\n",
       "      <th>Muestra 233</th>\n",
       "      <td>11.60</td>\n",
       "      <td>0.651962</td>\n",
       "    </tr>\n",
       "    <tr>\n",
       "      <th>Muestra 234</th>\n",
       "      <td>11.65</td>\n",
       "      <td>0.649106</td>\n",
       "    </tr>\n",
       "    <tr>\n",
       "      <th>Muestra 235</th>\n",
       "      <td>11.70</td>\n",
       "      <td>0.646223</td>\n",
       "    </tr>\n",
       "    <tr>\n",
       "      <th>Muestra 236</th>\n",
       "      <td>11.75</td>\n",
       "      <td>0.643313</td>\n",
       "    </tr>\n",
       "    <tr>\n",
       "      <th>Muestra 237</th>\n",
       "      <td>11.80</td>\n",
       "      <td>0.640375</td>\n",
       "    </tr>\n",
       "    <tr>\n",
       "      <th>Muestra 238</th>\n",
       "      <td>11.85</td>\n",
       "      <td>0.637412</td>\n",
       "    </tr>\n",
       "    <tr>\n",
       "      <th>Muestra 239</th>\n",
       "      <td>11.90</td>\n",
       "      <td>0.634421</td>\n",
       "    </tr>\n",
       "    <tr>\n",
       "      <th>Muestra 240</th>\n",
       "      <td>11.95</td>\n",
       "      <td>0.631405</td>\n",
       "    </tr>\n",
       "    <tr>\n",
       "      <th>Muestra 241</th>\n",
       "      <td>12.00</td>\n",
       "      <td>0.628364</td>\n",
       "    </tr>\n",
       "  </tbody>\n",
       "</table>\n",
       "<p>241 rows × 2 columns</p>\n",
       "</div>"
      ],
      "text/plain": [
       "             Tiempo de descanso (horas)  Nivel de descanso\n",
       "Muestra 1                          0.00           0.000000\n",
       "Muestra 2                          0.05           0.013580\n",
       "Muestra 3                          0.10           0.027046\n",
       "Muestra 4                          0.15           0.040399\n",
       "Muestra 5                          0.20           0.053640\n",
       "Muestra 6                          0.25           0.040061\n",
       "Muestra 7                          0.30           0.047871\n",
       "Muestra 8                          0.35           0.055614\n",
       "Muestra 9                          0.40           0.063290\n",
       "Muestra 10                         0.45           0.070900\n",
       "Muestra 11                         0.50           0.078443\n",
       "Muestra 12                         0.55           0.085920\n",
       "Muestra 13                         0.60           0.093332\n",
       "Muestra 14                         0.65           0.100677\n",
       "Muestra 15                         0.70           0.107957\n",
       "Muestra 16                         0.75           0.076781\n",
       "Muestra 17                         0.80           0.081548\n",
       "Muestra 18                         0.85           0.086271\n",
       "Muestra 19                         0.90           0.090951\n",
       "Muestra 20                         0.95           0.095588\n",
       "Muestra 21                         1.00           0.050091\n",
       "Muestra 22                         1.05           0.052367\n",
       "Muestra 23                         1.10           0.054621\n",
       "Muestra 24                         1.15           0.056854\n",
       "Muestra 25                         1.20           0.059066\n",
       "Muestra 26                         1.25           0.061257\n",
       "Muestra 27                         1.30           0.063427\n",
       "Muestra 28                         1.35           0.065576\n",
       "Muestra 29                         1.40           0.067704\n",
       "Muestra 30                         1.45           0.069811\n",
       "...                                 ...                ...\n",
       "Muestra 212                       10.55           0.176283\n",
       "Muestra 213                       10.60           0.175729\n",
       "Muestra 214                       10.65           0.175166\n",
       "Muestra 215                       10.70           0.174595\n",
       "Muestra 216                       10.75           0.348031\n",
       "Muestra 217                       10.80           0.346857\n",
       "Muestra 218                       10.85           0.345666\n",
       "Muestra 219                       10.90           0.344460\n",
       "Muestra 220                       10.95           0.343238\n",
       "Muestra 221                       11.00           0.684000\n",
       "Muestra 222                       11.05           0.681494\n",
       "Muestra 223                       11.10           0.678957\n",
       "Muestra 224                       11.15           0.676389\n",
       "Muestra 225                       11.20           0.673792\n",
       "Muestra 226                       11.25           0.671165\n",
       "Muestra 227                       11.30           0.668508\n",
       "Muestra 228                       11.35           0.665822\n",
       "Muestra 229                       11.40           0.663107\n",
       "Muestra 230                       11.45           0.660363\n",
       "Muestra 231                       11.50           0.657591\n",
       "Muestra 232                       11.55           0.654791\n",
       "Muestra 233                       11.60           0.651962\n",
       "Muestra 234                       11.65           0.649106\n",
       "Muestra 235                       11.70           0.646223\n",
       "Muestra 236                       11.75           0.643313\n",
       "Muestra 237                       11.80           0.640375\n",
       "Muestra 238                       11.85           0.637412\n",
       "Muestra 239                       11.90           0.634421\n",
       "Muestra 240                       11.95           0.631405\n",
       "Muestra 241                       12.00           0.628364\n",
       "\n",
       "[241 rows x 2 columns]"
      ]
     },
     "execution_count": 7,
     "metadata": {},
     "output_type": "execute_result"
    }
   ],
   "source": [
    "data = {\n",
    "    'Tiempo de descanso (horas)' : horas,\n",
    "    'Nivel de descanso' : descanso_ciclos\n",
    "}\n",
    "\n",
    "catalogue = pd.DataFrame(data, \n",
    "                         columns = ['Tiempo de descanso (horas)',  'Nivel de descanso' ], \n",
    "                         index = ['Muestra ' + str(i) for i in range(1, len(descanso_ciclos)+1)]\n",
    "                        )\n",
    "catalogue"
   ]
  },
  {
   "cell_type": "markdown",
   "metadata": {},
   "source": [
    "El óptimo resulta ser:"
   ]
  },
  {
   "cell_type": "code",
   "execution_count": 8,
   "metadata": {
    "collapsed": false,
    "scrolled": true
   },
   "outputs": [
    {
     "data": {
      "text/html": [
       "<div style=\"max-height:1000px;max-width:1500px;overflow:auto;\">\n",
       "<table border=\"1\" class=\"dataframe\">\n",
       "  <thead>\n",
       "    <tr style=\"text-align: right;\">\n",
       "      <th></th>\n",
       "      <th>Tiempo de descanso (horas)</th>\n",
       "      <th>Nivel de descanso</th>\n",
       "    </tr>\n",
       "  </thead>\n",
       "  <tbody>\n",
       "    <tr>\n",
       "      <th>Muestra 166</th>\n",
       "      <td>8.25</td>\n",
       "      <td>0.766688</td>\n",
       "    </tr>\n",
       "  </tbody>\n",
       "</table>\n",
       "</div>"
      ],
      "text/plain": [
       "             Tiempo de descanso (horas)  Nivel de descanso\n",
       "Muestra 166                        8.25           0.766688"
      ]
     },
     "execution_count": 8,
     "metadata": {},
     "output_type": "execute_result"
    }
   ],
   "source": [
    "index_max = descanso_ciclos.index(max(descanso_ciclos))\n",
    "hora_max = horas[index_max]\n",
    "catalogue[index_max : index_max+1]"
   ]
  },
  {
   "cell_type": "code",
   "execution_count": 9,
   "metadata": {
    "collapsed": false
   },
   "outputs": [
    {
     "data": {
      "image/png": "[encoded data removed]",
      "text/plain": [
       "<matplotlib.figure.Figure at 0xb4f0cc0>"
      ]
     },
     "metadata": {},
     "output_type": "display_data"
    }
   ],
   "source": [
    "descanso_ciclos = list(np.array(vigilia)*np.array(descanso))\n",
    "with plt.xkcd():\n",
    "    plt.figure(figsize=(15,5))\n",
    "    plt.plot(horas, descanso_ciclos)\n",
    "    plt.xlabel(\"$horas$\", fontsize=20)\n",
    "    plt.ylabel(\"$descanso$\", fontsize=20)\n",
    "    plt.vlines(hora_max, 0, 1, colors = 'r' ,linestyles = 'dashed')"
   ]
  },
  {
   "cell_type": "markdown",
   "metadata": {},
   "source": [
    "Este es un método heurístico muy sencillo y muy eficaz, pero no es muy eficiente. Para obtener un óptimo con la precisión deseada hemos evaluado 241 muestras, de las que hemos retenida sólo una. Es decir, **hemos desechado el 99,6 % de las soluciones propuestas**."
   ]
  },
  {
   "cell_type": "markdown",
   "metadata": {},
   "source": [
    "Este método es apropiado para un problema sencillo como éste.  Sin embargo, cuando el espacio de soluciones es muy amplio o cuando la evaluación de la solución propuesta es difícil, los tiempos de cálculo se vuelven inaceptables y es necesario recurrir a métodos heurísticos más inteligentes, como el algoritmo genético."
   ]
  },
  {
   "cell_type": "markdown",
   "metadata": {},
   "source": [
    "#¿Qué es un algoritmo genético?"
   ]
  },
  {
   "cell_type": "markdown",
   "metadata": {},
   "source": [
    "Es habitual, en el proceso de diseño o de optimización encontrarse con:\n",
    "\n",
    "* Ecuaciones no derivables (o que nos da pereza derivar)\n",
    "* Sistemas de ecuaciones trascendentales (o que no sabemos resolver)\n",
    "* Relaciones que desconocemos (o que no comprendemos)\n",
    "* Múltiples factores que interactúan simultáneamente\n",
    "* Condiciones cambiantes\n",
    "* ..."
   ]
  },
  {
   "cell_type": "markdown",
   "metadata": {},
   "source": [
    "Y entonces surgen preguntas como las siguientes:\n",
    "\n",
    "* ¿Cómo resolver *fácilmente* un problema que con una formulación complicada?\n",
    "* ¿Cómo evaluar una solución cuándo queremos optimizar varios factores al mismo tiempo?\n",
    "* ¿Cómo solucionar un problema cuyas condiciones evolucionan todo el tiempo?\n"
   ]
  },
  {
   "cell_type": "markdown",
   "metadata": {},
   "source": [
    "Por muy complicado que nos parezcan, hasta los seres vivos más primitivos llevan resolviendo problemas como estos desde *siempre*. La supervivencia es un problema complejo, donde intervienen una cantidad inconmensurable de factores que no se sabe muy bien cómo interactúan entre sí y que, para colmo, cambian geográficamente y evolucionan rápidamente a lo largo del tiempo.\n",
    "\n",
    "Los algoritmos evolutivos nacen de una analogía entre la optimización y la selección natural."
   ]
  },
  {
   "cell_type": "markdown",
   "metadata": {},
   "source": [
    ">*My own idiosyncratic view is that the reason scientists burn out early is that they dig very deep in one area and they’ve gone as far as its humanly possible at that time and then they can’t easily cross over into other areas. \n",
    "I think at the heart of most creative science are well thought-out metaphors, and cross-disciplinary work is a rich source of metaphor*. John Henry Holland"
   ]
  },
  {
   "cell_type": "markdown",
   "metadata": {},
   "source": [
    "Miremos alrededor y veamos la biodiversidad del mundo. Tenemos seres humanos, enormes elefantes herbívoros, feroces tigres, mansos perritos, minúsculas e industriosas hormigas, árboles grandes y pequeños, setas de colores, peces y mamíferos marinos, bacterias y viruses...\n",
    "\n",
    "**Soluciones diferentes para el mismo problema: ¿cómo hay que ser para reproducirse lo más posible?**"
   ]
  },
  {
   "cell_type": "markdown",
   "metadata": {},
   "source": [
    "¿Cómo podemos emular a la selección natural para resolver un problema de diseño? Veámoslo con un ejemplo."
   ]
  },
  {
   "cell_type": "markdown",
   "metadata": {},
   "source": [
    "#Ejemplo"
   ]
  },
  {
   "cell_type": "code",
   "execution_count": 216,
   "metadata": {
    "collapsed": false
   },
   "outputs": [],
   "source": [
    "class Individual (object):\n",
    "    \n",
    "    def __init__(self, genome):\n",
    "        \n",
    "        self.genome = genome        \n",
    "        self.traits = {}\n",
    "        self.performances = {}\n",
    "        self.fitness = 0"
   ]
  },
  {
   "cell_type": "code",
   "execution_count": 378,
   "metadata": {
    "collapsed": false
   },
   "outputs": [],
   "source": [
    "dict_genes = {\n",
    "    'Pareja de Pedro' : 3,\n",
    "    'Pareja de Mariano' : 3,\n",
    "    'Pareja de Antonio' : 3\n",
    "}"
   ]
  },
  {
   "cell_type": "code",
   "execution_count": 315,
   "metadata": {
    "collapsed": true
   },
   "outputs": [],
   "source": [
    "generate_random_binary_list = lambda n: [random.randint(0,1) for b in range(1,n+1)]\n",
    "\n",
    "def generate_genome (dict_genes):\n",
    "    \n",
    "    #We first calculate the total number of bits that the genome must contain\n",
    "    number_of_bits = sum([dict_genes[trait] for trait in dict_genes])\n",
    "    \n",
    "    #And we return a random genome of this length\n",
    "    return generate_random_binary_list(number_of_bits)"
   ]
  },
  {
   "cell_type": "code",
   "execution_count": 382,
   "metadata": {
    "collapsed": false
   },
   "outputs": [],
   "source": [
    "def calculate_traits (individual, dict_genes):\n",
    "    #This function must decipher the genome and return the traits of the individual.\n",
    "    #Normally, the genome contains binary numerical values for the different traits.\n",
    "    \n",
    "    dict_traits = {}\n",
    "    index = 0\n",
    "    \n",
    "    for trait in dict_genes:\n",
    "        dict_traits[trait] = int(''.join(str(bit) for bit in individual.genome[index : index+dict_genes[trait]]), 2)\n",
    "        index += dict_genes[trait]\n",
    "        \n",
    "    individual.traits = dict_traits"
   ]
  },
  {
   "cell_type": "code",
   "execution_count": 403,
   "metadata": {
    "collapsed": false
   },
   "outputs": [
    {
     "data": {
      "text/plain": [
       "{'Pareja de Antonio': 1, 'Pareja de Mariano': 4, 'Pareja de Pedro': 2}"
      ]
     },
     "execution_count": 403,
     "metadata": {},
     "output_type": "execute_result"
    }
   ],
   "source": [
    "individuo = Individual(generate_genome(dict_genes))\n",
    "calculate_traits (individuo, dict_genes)\n",
    "individuo.traits"
   ]
  },
  {
   "cell_type": "code",
   "execution_count": 345,
   "metadata": {
    "collapsed": false
   },
   "outputs": [
    {
     "ename": "SyntaxError",
     "evalue": "unexpected EOF while parsing (<ipython-input-345-c7013848f697>, line 1)",
     "output_type": "error",
     "traceback": [
      "\u001b[1;36m  File \u001b[1;32m\"<ipython-input-345-c7013848f697>\"\u001b[1;36m, line \u001b[1;32m1\u001b[0m\n\u001b[1;33m    def calculate_performances (individual):\u001b[0m\n\u001b[1;37m                                            ^\u001b[0m\n\u001b[1;31mSyntaxError\u001b[0m\u001b[1;31m:\u001b[0m unexpected EOF while parsing\n"
     ]
    }
   ],
   "source": [
    "def calculate_performances (individual):"
   ]
  },
  {
   "cell_type": "code",
   "execution_count": 350,
   "metadata": {
    "collapsed": false
   },
   "outputs": [
    {
     "ename": "SyntaxError",
     "evalue": "unexpected EOF while parsing (<ipython-input-350-36a0fe0d25ad>, line 1)",
     "output_type": "error",
     "traceback": [
      "\u001b[1;36m  File \u001b[1;32m\"<ipython-input-350-36a0fe0d25ad>\"\u001b[1;36m, line \u001b[1;32m1\u001b[0m\n\u001b[1;33m    def calculate_fitness (individual):\u001b[0m\n\u001b[1;37m                                       ^\u001b[0m\n\u001b[1;31mSyntaxError\u001b[0m\u001b[1;31m:\u001b[0m unexpected EOF while parsing\n"
     ]
    }
   ],
   "source": [
    "def calculate_fitness (individual):"
   ]
  },
  {
   "cell_type": "code",
   "execution_count": null,
   "metadata": {
    "collapsed": true
   },
   "outputs": [],
   "source": []
  },
  {
   "cell_type": "code",
   "execution_count": 92,
   "metadata": {
    "collapsed": true
   },
   "outputs": [],
   "source": [
    "def immigration (society, target_population, dict_genes):\n",
    "    \n",
    "    while len(society) < target_population:\n",
    "        society.append ( Individual (generate_genome (dict_genes)))"
   ]
  },
  {
   "cell_type": "code",
   "execution_count": 283,
   "metadata": {
    "collapsed": false
   },
   "outputs": [
    {
     "name": "stdout",
     "output_type": "stream",
     "text": [
      "0.89933 0.05009 0.05058\n"
     ]
    }
   ],
   "source": [
    "weights = [0.9, 0.05, 0.05]\n",
    "N = 100000\n",
    "lista = [weighted_choice_sub(weights) for ii in range(N)]\n",
    "print( lista.count(0)/N, lista.count(1)/N, lista.count(2)/N)"
   ]
  },
  {
   "cell_type": "code",
   "execution_count": 153,
   "metadata": {
    "collapsed": true
   },
   "outputs": [],
   "source": [
    "#This function was taken from Eli Bendersky's website\n",
    "#It returns an index of a list called \"weights\", \n",
    "#where the content of each element in \"weights\" is the probability of this index to be returned.\n",
    "#For this function to be as fast as possible we need to pass it a list of weights in descending order.\n",
    "def weighted_choice_sub(weights):\n",
    "    rnd = random.random() * sum(weights)\n",
    "    for i, w in enumerate(weights):\n",
    "        rnd -= w\n",
    "        if rnd < 0:\n",
    "            return i\n",
    "\n",
    "def crossover (society, reproduction_rate, mutation_rate):\n",
    "    \n",
    "    #First we create a list with the fitness values of every individual in the society\n",
    "    fitness_list = [individual.fitness for individual in society]\n",
    "    \n",
    "    #We sort the individuals in the society in descending order of fitness.   \n",
    "    society = [x for (y, x) in sorted(zip(fitness_list, society), key=lambda x: x[0], reverse=True)] \n",
    "    \n",
    "    #We then create a list of relative probabilities in descending order, \n",
    "    #so that the fittest individual in the society has N times more chances to reproduce than the least fit,\n",
    "    #where N is the number of individuals in the society.\n",
    "    probability = [i for i in reversed(range(1,len(society)+1))]\n",
    "    \n",
    "    #We create a list of weights with the probabilities of non-mutation and mutation\n",
    "    mutation = [1 - mutation_rate, mutation_rate]    \n",
    "    \n",
    "    #For every new individual to be created through reproduction:\n",
    "    for i in range (int(len(society) * reproduction_rate)):\n",
    "        \n",
    "        #We select two parents randomly, using the list of probabilities in \"probability\".\n",
    "        father, mother = society[weighted_choice_sub(probability)], society[weighted_choice_sub(probability)]\n",
    "        \n",
    "        #We randomly select two cutting points for the genome.\n",
    "        a, b = random.randrange(0, len(father.genome)), random.randrange(0, len(father.genome))\n",
    "        \n",
    "        #And we create the genome of the child putting together the genome slices of the parents in the cutting points.\n",
    "        child_genome = father.genome[0:min(a,b)]+mother.genome[min(a,b):max(a,b)]+father.genome[max(a,b):]\n",
    "        \n",
    "        #For every bit in the not-yet-born child, we generate a list containing \n",
    "        #1's in the positions where the genome must mutate (i.e. the bit must switch its value)\n",
    "        #and 0's in the positions where the genome must stay the same.\n",
    "        n = [weighted_choice_sub(mutation) for ii in range(len(child_genome))]\n",
    "        \n",
    "        #This line switches the bits of the genome of the child that must mutate.\n",
    "        mutant_child_genome = [abs(n[i] -  child_genome[i]) for i in range(len(child_genome))]\n",
    "        \n",
    "        #We finally append the newborn individual to the society\n",
    "        society.append(Individual(mutant_child_genome))\n",
    "        \n",
    "    return (society)"
   ]
  },
  {
   "cell_type": "code",
   "execution_count": 217,
   "metadata": {
    "collapsed": true
   },
   "outputs": [],
   "source": [
    "def tournament(society, target_population):\n",
    "    \n",
    "    while len(society) > target_population:\n",
    "        \n",
    "        index1, index2 = random.randrange(0, len(society)), random.randrange(0, len(society))\n",
    "        \n",
    "        if society[index1].fitness > society[index2].fitness:\n",
    "            society.pop(index2)\n",
    "        else:\n",
    "            society.pop(index1)"
   ]
  },
  {
   "cell_type": "code",
   "execution_count": null,
   "metadata": {
    "collapsed": true
   },
   "outputs": [],
   "source": []
  }
 ],
 "metadata": {
  "kernelspec": {
   "display_name": "Python 3",
   "language": "python",
   "name": "python3"
  },
  "language_info": {
   "codemirror_mode": {
    "name": "ipython",
    "version": 3
   },
   "file_extension": ".py",
   "mimetype": "text/x-python",
   "name": "python",
   "nbconvert_exporter": "python",
   "pygments_lexer": "ipython3",
   "version": "3.4.1"
  }
 },
 "nbformat": 4,
 "nbformat_minor": 0
}
